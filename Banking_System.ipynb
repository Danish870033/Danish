{
 "cells": [
  {
   "cell_type": "code",
   "execution_count": 6,
   "id": "620adbe9-7571-432d-8478-706599131df6",
   "metadata": {},
   "outputs": [
    {
     "name": "stdout",
     "output_type": "stream",
     "text": [
      "Menu:\n",
      "1. Create Account\n",
      "2. Deposit Money\n",
      "3. Withdraw Money\n",
      "4. Check Balance\n",
      "5. Exit\n"
     ]
    },
    {
     "name": "stdin",
     "output_type": "stream",
     "text": [
      "Choose an option (1-5):  1\n",
      "Enter a new account number:  kjhgfd\n"
     ]
    },
    {
     "name": "stdout",
     "output_type": "stream",
     "text": [
      "Account 'kjhgfd' has been created with a balance of 0.\n",
      "\n",
      "Menu:\n",
      "1. Create Account\n",
      "2. Deposit Money\n",
      "3. Withdraw Money\n",
      "4. Check Balance\n",
      "5. Exit\n"
     ]
    },
    {
     "name": "stdin",
     "output_type": "stream",
     "text": [
      "Choose an option (1-5):  5\n"
     ]
    },
    {
     "name": "stdout",
     "output_type": "stream",
     "text": [
      "Exiting the program. Goodbye!\n"
     ]
    }
   ],
   "source": [
    "# Dictionary to store account information (account number as key, balance as value)\n",
    "bank_accounts = {}\n",
    "\n",
    "# Function to create a new account\n",
    "def create_account():\n",
    "    account_number = input(\"Enter a new account number: \")\n",
    "    if account_number in bank_accounts:\n",
    "        print(\"Account already exists!\\n\")\n",
    "    else:\n",
    "        bank_accounts[account_number] = 0  # Initial balance is 0\n",
    "        print(f\"Account '{account_number}' has been created with a balance of 0.\\n\")\n",
    "\n",
    "# Function to deposit money\n",
    "def deposit_money():\n",
    "    account_number = input(\"Enter account number: \")\n",
    "    if account_number in bank_accounts:\n",
    "        amount = float(input(\"Enter amount to deposit: \"))\n",
    "        bank_accounts[account_number] += amount\n",
    "        print(f\"{amount} has been deposited into account '{account_number}'. New balance: {bank_accounts[account_number]}\\n\")\n",
    "    else:\n",
    "        print(\"Account not found.\\n\")\n",
    "\n",
    "# Function to withdraw money\n",
    "def withdraw_money():\n",
    "    account_number = input(\"Enter account number: \")\n",
    "    if account_number in bank_accounts:\n",
    "        amount = float(input(\"Enter amount to withdraw: \"))\n",
    "        if bank_accounts[account_number] >= amount:\n",
    "            bank_accounts[account_number] -= amount\n",
    "            print(f\"{amount} has been withdrawn from account '{account_number}'. New balance: {bank_accounts[account_number]}\\n\")\n",
    "        else:\n",
    "            print(\"Insufficient balance.\\n\")\n",
    "    else:\n",
    "        print(\"Account not found.\\n\")\n",
    "\n",
    "# Function to check balance\n",
    "def check_balance():\n",
    "    account_number = input(\"Enter account number: \")\n",
    "    if account_number in bank_accounts:\n",
    "        print(f\"Balance for account '{account_number}': {bank_accounts[account_number]}\\n\")\n",
    "    else:\n",
    "        print(\"Account not found.\\n\")\n",
    "\n",
    "# Function to show the menu and take user input\n",
    "def menu():\n",
    "    while True:\n",
    "        print(\"Menu:\")\n",
    "        print(\"1. Create Account\")\n",
    "        print(\"2. Deposit Money\")\n",
    "        print(\"3. Withdraw Money\")\n",
    "        print(\"4. Check Balance\")\n",
    "        print(\"5. Exit\")\n",
    "        choice = input(\"Choose an option (1-5): \")\n",
    "\n",
    "        if choice == '1':\n",
    "            create_account()\n",
    "        elif choice == '2':\n",
    "            deposit_money()\n",
    "        elif choice == '3':\n",
    "            withdraw_money()\n",
    "        elif choice == '4':\n",
    "            check_balance()\n",
    "        elif choice == '5':\n",
    "            print(\"Exiting the program. Goodbye!\")\n",
    "            break\n",
    "        else:\n",
    "            print(\"Invalid choice, please try again.\\n\")\n",
    "menu()"
   ]
  },
  {
   "cell_type": "code",
   "execution_count": null,
   "id": "8c517efb-dfba-4b5e-a72b-b2c7f8d460d7",
   "metadata": {},
   "outputs": [],
   "source": []
  }
 ],
 "metadata": {
  "kernelspec": {
   "display_name": "Python 3 (ipykernel)",
   "language": "python",
   "name": "python3"
  },
  "language_info": {
   "codemirror_mode": {
    "name": "ipython",
    "version": 3
   },
   "file_extension": ".py",
   "mimetype": "text/x-python",
   "name": "python",
   "nbconvert_exporter": "python",
   "pygments_lexer": "ipython3",
   "version": "3.12.4"
  }
 },
 "nbformat": 4,
 "nbformat_minor": 5
}
